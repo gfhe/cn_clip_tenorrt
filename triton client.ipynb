{
 "cells": [
  {
   "cell_type": "code",
   "execution_count": null,
   "id": "e66164d4-3020-4f53-920c-c70e6aa2f6c3",
   "metadata": {},
   "outputs": [],
   "source": [
    "chinese clip 地址：https://github.com/OFA-Sys/Chinese-CLIP"
   ]
  },
  {
   "cell_type": "code",
   "execution_count": 1,
   "id": "f020cb1a-6ca9-4d1f-aa97-c9715de08de9",
   "metadata": {},
   "outputs": [
    {
     "name": "stdout",
     "output_type": "stream",
     "text": [
      "Collecting environment information...\n",
      "PyTorch version: 1.13.1+cu117\n",
      "Is debug build: False\n",
      "CUDA used to build PyTorch: 11.7\n",
      "ROCM used to build PyTorch: N/A\n",
      "\n",
      "OS: Ubuntu 20.04.5 LTS (x86_64)\n",
      "GCC version: (Ubuntu 9.4.0-1ubuntu1~20.04.1) 9.4.0\n",
      "Clang version: Could not collect\n",
      "CMake version: Could not collect\n",
      "Libc version: glibc-2.31\n",
      "\n",
      "Python version: 3.8.10 (default, Nov 14 2022, 12:59:47)  [GCC 9.4.0] (64-bit runtime)\n",
      "Python platform: Linux-3.10.0-957.el7.x86_64-x86_64-with-glibc2.29\n",
      "Is CUDA available: False\n",
      "CUDA runtime version: 12.0.140\n",
      "CUDA_MODULE_LOADING set to: N/A\n",
      "GPU models and configuration: Could not collect\n",
      "Nvidia driver version: Could not collect\n",
      "cuDNN version: Probably one of the following:\n",
      "/usr/lib/x86_64-linux-gnu/libcudnn.so.8.7.0\n",
      "/usr/lib/x86_64-linux-gnu/libcudnn_adv_infer.so.8.7.0\n",
      "/usr/lib/x86_64-linux-gnu/libcudnn_adv_train.so.8.7.0\n",
      "/usr/lib/x86_64-linux-gnu/libcudnn_cnn_infer.so.8.7.0\n",
      "/usr/lib/x86_64-linux-gnu/libcudnn_cnn_train.so.8.7.0\n",
      "/usr/lib/x86_64-linux-gnu/libcudnn_ops_infer.so.8.7.0\n",
      "/usr/lib/x86_64-linux-gnu/libcudnn_ops_train.so.8.7.0\n",
      "HIP runtime version: N/A\n",
      "MIOpen runtime version: N/A\n",
      "Is XNNPACK available: True\n",
      "\n",
      "Versions of relevant libraries:\n",
      "[pip3] numpy==1.23.5\n",
      "[pip3] torch==1.13.1\n",
      "[pip3] torchtext==0.14.1\n",
      "[pip3] torchvision==0.14.1\n",
      "[conda] Could not collect\n"
     ]
    }
   ],
   "source": [
    "!python -m torch.utils.collect_env"
   ]
  },
  {
   "cell_type": "code",
   "execution_count": 2,
   "id": "fc3c0f57-9dbb-4b9e-a3b6-6cebb8ff8a97",
   "metadata": {},
   "outputs": [
    {
     "name": "stderr",
     "output_type": "stream",
     "text": [
      "/usr/local/lib/python3.8/dist-packages/tqdm/auto.py:21: TqdmWarning: IProgress not found. Please update jupyter and ipywidgets. See https://ipywidgets.readthedocs.io/en/stable/user_install.html\n",
      "  from .autonotebook import tqdm as notebook_tqdm\n"
     ]
    }
   ],
   "source": [
    "import torch\n",
    "import numpy as np\n",
    "from PIL import Image\n",
    "from torchvision import transforms\n",
    "import tritonclient.http as httpclient\n",
    "from tritonclient.utils import triton_to_np_dtype\n",
    "from cn_clip import clip\n",
    "from cn_clip.clip.utils import image_transform, tokenize"
   ]
  },
  {
   "cell_type": "code",
   "execution_count": 3,
   "id": "f57cf521-3092-413f-801c-d70c9e7f9887",
   "metadata": {},
   "outputs": [
    {
     "data": {
      "text/plain": [
       "'cpu'"
      ]
     },
     "execution_count": 3,
     "metadata": {},
     "output_type": "execute_result"
    }
   ],
   "source": [
    "device = \"cuda\" if torch.cuda.is_available() else \"cpu\"\n",
    "device"
   ]
  },
  {
   "cell_type": "code",
   "execution_count": 4,
   "id": "07f34dca-323e-4a85-bf27-46182b32c04a",
   "metadata": {},
   "outputs": [],
   "source": [
    "def text_tokenize_int32(batch_text):\n",
    "    return tokenize(batch_text).int().numpy()\n",
    "\n",
    "def image_batch_transform(batch_images):\n",
    "    batch_transformed_images = []\n",
    "    for inp in batch_images:\n",
    "        # 默认preprocess 返回 tensor类型，需要转为numpy\n",
    "        batch_transformed_images.append(image_transform()(inp).numpy())\n",
    "    return np.array(batch_transformed_images)\n",
    "\n",
    "\n",
    "# 预处理方法集合\n",
    "input_preprocess = {\n",
    "    \"image\": image_batch_transform,\n",
    "    \"text\": text_tokenize_int32\n",
    "}"
   ]
  },
  {
   "cell_type": "markdown",
   "id": "4037a566-c7eb-4866-8c17-fc33e1921fb7",
   "metadata": {},
   "source": [
    "# 模型推理类"
   ]
  },
  {
   "cell_type": "code",
   "execution_count": 5,
   "id": "85f752a8-ced2-4cb8-a42e-294e532a41b1",
   "metadata": {},
   "outputs": [],
   "source": [
    "class TritonHttpClient:\n",
    "    def __init__(self, server, preprocess={}):\n",
    "        \"\"\"\n",
    "        server: triton service ip:port\n",
    "        preprocess: preprocess function, key value pair, key:input_name, value: preprocess function\n",
    "        \"\"\"\n",
    "        self.triton_client = httpclient.InferenceServerClient(url=server)\n",
    "        self.input_preprocess = preprocess\n",
    "\n",
    "    def inf(self, model_name, \n",
    "            input_name, input_batch, input_data_type,\n",
    "            output_name, is_binary_data=False):\n",
    "        input_features = input_batch\n",
    "        # 输入\n",
    "        if self.input_preprocess.get(input_name) is not None:\n",
    "            input_features = self.input_preprocess.get(input_name)(input_batch)\n",
    "        input = httpclient.InferInput(input_name, input_features.shape, datatype=input_data_type)\n",
    "        input.set_data_from_numpy(input_features, binary_data=is_binary_data)\n",
    "        \n",
    "        #输出\n",
    "        output = httpclient.InferRequestedOutput(output_name, binary_data=is_binary_data)\n",
    "\n",
    "        # 请求\n",
    "        result = self.triton_client.infer(model_name=model_name, inputs=[input], outputs=[output])\n",
    "        return result.as_numpy(output_name)"
   ]
  },
  {
   "cell_type": "code",
   "execution_count": 6,
   "id": "ca738033-1539-47f3-b6ea-fff26f4f38da",
   "metadata": {},
   "outputs": [],
   "source": [
    "client = TritonHttpClient(\"10.208.62.27:8000\", preprocess=input_preprocess)"
   ]
  },
  {
   "cell_type": "markdown",
   "id": "3ff9c421-561f-41cc-bd27-6f81c6c7c2c9",
   "metadata": {},
   "source": [
    "# 处理图像信息"
   ]
  },
  {
   "cell_type": "code",
   "execution_count": 67,
   "id": "8d4340ff-d714-4dcc-a64a-248a8355f90f",
   "metadata": {},
   "outputs": [
    {
     "data": {
      "text/plain": [
       "(1, 512)"
      ]
     },
     "execution_count": 67,
     "metadata": {},
     "output_type": "execute_result"
    }
   ],
   "source": [
    "image_batch = [Image.open('pokemon.jpeg')]\n",
    "\n",
    "image_features = client.inf(\"clip_vitb16_img\", \"image\", image_batch, \"FP32\", \"unnorm_image_features\", is_binary_data=True)\n",
    "image_features.shape"
   ]
  },
  {
   "cell_type": "code",
   "execution_count": 68,
   "id": "e2309ca6-07f7-4d25-9031-c41707f59065",
   "metadata": {},
   "outputs": [
    {
     "data": {
      "text/plain": [
       "(1, 512)"
      ]
     },
     "execution_count": 68,
     "metadata": {},
     "output_type": "execute_result"
    }
   ],
   "source": [
    "normed_image_features = image_features/np.linalg.norm(image_features, axis=image_features.ndim-1, keepdims=True)\n",
    "normed_image_features.shape"
   ]
  },
  {
   "cell_type": "markdown",
   "id": "d32c59d6-27cb-4c3f-9e8a-479a80dd7c63",
   "metadata": {},
   "source": [
    "# 处理文本信息"
   ]
  },
  {
   "cell_type": "code",
   "execution_count": 69,
   "id": "cc0e9ddd-e2c8-49ab-92d0-0fe6bbcbd23e",
   "metadata": {},
   "outputs": [
    {
     "data": {
      "text/plain": [
       "(4, 512)"
      ]
     },
     "execution_count": 69,
     "metadata": {},
     "output_type": "execute_result"
    }
   ],
   "source": [
    "#input_batch=[\"皮卡丘\"]\n",
    "input_batch=[\"杰尼龟\", \"妙蛙种子\", \"小火龙\", \"皮卡丘\" ]\n",
    "\n",
    "text_features=client.inf(\"clip_vitb16_txt\", \"text\", input_batch, \"INT32\", \"unnorm_text_features\")\n",
    "text_features.shape"
   ]
  },
  {
   "cell_type": "code",
   "execution_count": 70,
   "id": "8b1ed15c-c754-4f7d-b719-6482380fd44a",
   "metadata": {},
   "outputs": [
    {
     "data": {
      "text/plain": [
       "(4, 512)"
      ]
     },
     "execution_count": 70,
     "metadata": {},
     "output_type": "execute_result"
    }
   ],
   "source": [
    "normed_text_features = text_features/np.linalg.norm(text_features, axis=text_features.ndim-1, keepdims=True)\n",
    "normed_text_features.shape"
   ]
  },
  {
   "cell_type": "markdown",
   "id": "2606186c-8315-4b60-a9df-588a205fc8a3",
   "metadata": {},
   "source": [
    "# 相关性计算"
   ]
  },
  {
   "cell_type": "code",
   "execution_count": 71,
   "id": "e42fee8a-7091-412f-be2c-02e4a12f1e67",
   "metadata": {},
   "outputs": [],
   "source": [
    "normed_image_features = torch.tensor(normed_image_features)\n",
    "normed_text_features = torch.tensor(normed_text_features)"
   ]
  },
  {
   "cell_type": "code",
   "execution_count": 72,
   "id": "62939e46-89c0-4b01-8646-ea163f0e92ee",
   "metadata": {},
   "outputs": [
    {
     "data": {
      "text/plain": [
       "array([[0.16164693, 0.2764256 , 0.1477481 , 0.41417935]], dtype=float32)"
      ]
     },
     "execution_count": 72,
     "metadata": {},
     "output_type": "execute_result"
    }
   ],
   "source": [
    "from torch import nn\n",
    "  \n",
    "\n",
    "def get_similarity(image_features, text_features):\n",
    "    logit_scale = nn.Parameter(torch.ones([]) * np.log(1 / 0.07)).exp()\n",
    "    logits_per_image = logit_scale * image_features @ text_features.t()\n",
    "    logits_per_text = logits_per_image.t()\n",
    "    return logits_per_image, logits_per_text\n",
    "\n",
    "logits_per_image, logits_per_text = get_similarity(normed_image_features, normed_text_features)\n",
    "probs = logits_per_image.softmax(dim=-1).detach().numpy()\n",
    "probs"
   ]
  },
  {
   "cell_type": "code",
   "execution_count": null,
   "id": "4caa84da-7b8c-4d63-b891-7d4384b4cc19",
   "metadata": {},
   "outputs": [],
   "source": []
  }
 ],
 "metadata": {
  "kernelspec": {
   "display_name": "Python 3 (ipykernel)",
   "language": "python",
   "name": "python3"
  },
  "language_info": {
   "codemirror_mode": {
    "name": "ipython",
    "version": 3
   },
   "file_extension": ".py",
   "mimetype": "text/x-python",
   "name": "python",
   "nbconvert_exporter": "python",
   "pygments_lexer": "ipython3",
   "version": "3.8.10"
  }
 },
 "nbformat": 4,
 "nbformat_minor": 5
}
