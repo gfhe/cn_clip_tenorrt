{
 "cells": [
  {
   "cell_type": "code",
   "execution_count": 79,
   "id": "fc3c0f57-9dbb-4b9e-a3b6-6cebb8ff8a97",
   "metadata": {},
   "outputs": [],
   "source": [
    "import torch\n",
    "import numpy as np\n",
    "from PIL import Image\n",
    "from torchvision import transforms\n",
    "import tritonclient.http as httpclient\n",
    "from tritonclient.utils import triton_to_np_dtype\n",
    "from cn_clip import clip\n",
    "from cn_clip.clip.utils import image_transform, tokenize"
   ]
  },
  {
   "cell_type": "code",
   "execution_count": 11,
   "id": "f57cf521-3092-413f-801c-d70c9e7f9887",
   "metadata": {},
   "outputs": [],
   "source": [
    "device = \"cuda\" if torch.cuda.is_available() else \"cpu\"\n",
    "device"
   ]
  },
  {
   "cell_type": "code",
   "execution_count": null,
   "id": "f020cb1a-6ca9-4d1f-aa97-c9715de08de9",
   "metadata": {},
   "outputs": [],
   "source": []
  },
  {
   "cell_type": "code",
   "execution_count": 92,
   "id": "07f34dca-323e-4a85-bf27-46182b32c04a",
   "metadata": {},
   "outputs": [],
   "source": [
    "def text_tokenize_int32(batch_text):\n",
    "    return tokenize(batch_text).int().numpy()\n",
    "\n",
    "def image_batch_transform(batch_images):\n",
    "    batch_transformed_images = []\n",
    "    for inp in batch_images:\n",
    "        # 默认preprocess 返回 tensor类型，需要转为numpy\n",
    "        batch_transformed_images.append(image_transform()(inp).numpy())\n",
    "    return np.array(batch_transformed_images)\n",
    "\n",
    "\n",
    "# 预处理方法集合\n",
    "input_preprocess = {\n",
    "    \"image\": image_batch_transform,\n",
    "    \"text\": text_tokenize_int32\n",
    "}"
   ]
  },
  {
   "cell_type": "markdown",
   "id": "4037a566-c7eb-4866-8c17-fc33e1921fb7",
   "metadata": {},
   "source": [
    "# 模型推理类"
   ]
  },
  {
   "cell_type": "code",
   "execution_count": 93,
   "id": "85f752a8-ced2-4cb8-a42e-294e532a41b1",
   "metadata": {},
   "outputs": [],
   "source": [
    "class TritonHttpClient:\n",
    "    def __init__(self, server, preprocess={}):\n",
    "        \"\"\"\n",
    "        server: triton service ip:port\n",
    "        preprocess: preprocess function, key value pair, key:input_name, value: preprocess function\n",
    "        \"\"\"\n",
    "        triton_client = httpclient.InferenceServerClient(url=server)\n",
    "        self.input_preprocess = preprocess\n",
    "\n",
    "    def inf(self, model_name, \n",
    "            input_name, input_batch, input_data_type,\n",
    "            output_name, is_binary_data=False):\n",
    "        input_features = input_batch\n",
    "        # 输入\n",
    "        if self.input_preprocess.get(input_name) is not None:\n",
    "            input_features = self.input_preprocess.get(input_name)(input_batch)\n",
    "        input = httpclient.InferInput(input_name, input_features.shape, datatype=input_data_type)\n",
    "        input.set_data_from_numpy(input_features, binary_data=is_binary_data)\n",
    "        \n",
    "        #输出\n",
    "        output = httpclient.InferRequestedOutput(output_name, binary_data=is_binary_data)\n",
    "\n",
    "        # 请求\n",
    "        result = triton_client.infer(model_name=model_name, inputs=[input], outputs=[output])\n",
    "        return result.as_numpy(output_name)"
   ]
  },
  {
   "cell_type": "markdown",
   "id": "3ff9c421-561f-41cc-bd27-6f81c6c7c2c9",
   "metadata": {},
   "source": [
    "# 处理图像信息"
   ]
  },
  {
   "cell_type": "code",
   "execution_count": 127,
   "id": "8d4340ff-d714-4dcc-a64a-248a8355f90f",
   "metadata": {},
   "outputs": [
    {
     "data": {
      "text/plain": [
       "(1, 512)"
      ]
     },
     "execution_count": 127,
     "metadata": {},
     "output_type": "execute_result"
    }
   ],
   "source": [
    "\n",
    "image_batch = [Image.open('pokemon.jpeg')]\n",
    "\n",
    "client = TritonHttpClient(\"10.208.62.27:8000\", preprocess=input_preprocess)\n",
    "image_features = client.inf(\"clip_vitb16_img\", \"image\", image_batch, \"FP32\", \"unnorm_image_features\", is_binary_data=True)\n",
    "image_features.shape"
   ]
  },
  {
   "cell_type": "markdown",
   "id": "d32c59d6-27cb-4c3f-9e8a-479a80dd7c63",
   "metadata": {},
   "source": [
    "# 处理文本信息"
   ]
  },
  {
   "cell_type": "code",
   "execution_count": 128,
   "id": "cc0e9ddd-e2c8-49ab-92d0-0fe6bbcbd23e",
   "metadata": {},
   "outputs": [
    {
     "data": {
      "text/plain": [
       "(1, 512)"
      ]
     },
     "execution_count": 128,
     "metadata": {},
     "output_type": "execute_result"
    }
   ],
   "source": [
    "#input_batch=[\"皮卡丘\"]\n",
    "input_batch=[\"杰尼龟\"]\n",
    "\n",
    "client = TritonHttpClient(\"10.208.62.27:8000\", preprocess=input_preprocess)\n",
    "text_features=client.inf(\"clip_vitb16_txt\", \"text\", input_batch, \"INT32\", \"unnorm_text_features\")\n",
    "text_features.shape"
   ]
  },
  {
   "cell_type": "markdown",
   "id": "2606186c-8315-4b60-a9df-588a205fc8a3",
   "metadata": {},
   "source": [
    "# 相关性计算"
   ]
  },
  {
   "cell_type": "code",
   "execution_count": 129,
   "id": "e42fee8a-7091-412f-be2c-02e4a12f1e67",
   "metadata": {},
   "outputs": [],
   "source": [
    "image_features = torch.tensor(image_features)\n",
    "text_features = torch.tensor(text_features)"
   ]
  },
  {
   "cell_type": "code",
   "execution_count": 130,
   "id": "62939e46-89c0-4b01-8646-ea163f0e92ee",
   "metadata": {},
   "outputs": [],
   "source": [
    "from torch import nn\n",
    "\n",
    "image_features /= image_features.norm(dim=-1, keepdim=True) \n",
    "text_features /= text_features.norm(dim=-1, keepdim=True)    \n",
    "\n",
    "def get_similarity(image_features, text_features):\n",
    "    logit_scale = nn.Parameter(torch.ones([]) * np.log(1 / 0.07)).exp()\n",
    "    logits_per_image = logit_scale * image_features @ text_features.t()\n",
    "    logits_per_text = logits_per_image.t()\n",
    "    return logits_per_image, logits_per_text\n",
    "\n",
    "logits_per_image, logits_per_text = get_similarity(image_features, text_features)\n",
    "probs = logits_per_image.softmax(dim=-1).detach().numpy()"
   ]
  },
  {
   "cell_type": "code",
   "execution_count": 131,
   "id": "3ca2a9de-5da1-4378-897e-037f2888d466",
   "metadata": {},
   "outputs": [
    {
     "data": {
      "text/plain": [
       "array([[1.]], dtype=float32)"
      ]
     },
     "execution_count": 131,
     "metadata": {},
     "output_type": "execute_result"
    }
   ],
   "source": [
    "probs"
   ]
  },
  {
   "cell_type": "code",
   "execution_count": 133,
   "id": "8696d87e-6f87-48a0-ac1b-80b34c59735a",
   "metadata": {},
   "outputs": [
    {
     "data": {
      "text/plain": [
       "tensor([[ 1.1745e-01, -1.6243e-02,  3.9839e-03, -2.1405e-02,  3.3110e-03,\n",
       "          3.6907e-02,  5.6607e-02,  5.2882e-03,  5.6576e-02,  5.9038e-03,\n",
       "         -4.9567e-02, -7.6655e-02, -2.1674e-02, -1.4318e-02, -2.5652e-02,\n",
       "          2.7704e-02, -1.0576e-02, -6.5353e-02,  9.4903e-02,  4.6283e-02,\n",
       "         -4.4279e-03,  5.7618e-02, -3.5802e-02,  1.0868e-02,  1.1973e-02,\n",
       "         -3.0766e-02,  2.9638e-03,  9.8581e-03, -9.6056e-03,  2.2479e-02,\n",
       "          2.3540e-03,  5.3474e-03,  8.2954e-03,  8.1328e-02,  2.7357e-02,\n",
       "          3.1066e-02, -3.8379e-03, -5.0451e-02,  4.3411e-03, -3.0829e-02,\n",
       "          2.1137e-02, -2.0348e-02, -2.4373e-02,  1.8864e-02,  5.8525e-03,\n",
       "         -2.7743e-03,  5.5976e-02,  3.8422e-02,  2.5099e-02, -7.8021e-03,\n",
       "          2.1468e-02,  4.7073e-02, -5.0325e-02, -1.2802e-02, -4.9093e-02,\n",
       "         -3.7349e-02, -8.4485e-02,  1.6370e-02,  1.7854e-02, -2.4014e-03,\n",
       "          1.4775e-02, -3.0387e-03, -9.4019e-02, -3.1698e-02, -2.3817e-03,\n",
       "         -6.1311e-02, -4.2684e-02,  3.1492e-02,  4.7136e-02,  4.2811e-02,\n",
       "          1.1642e-02, -1.8880e-02, -7.9165e-03,  1.4829e-03, -1.7459e-02,\n",
       "         -5.2440e-02, -2.6725e-02, -5.2093e-02, -5.3166e-02,  1.9906e-02,\n",
       "          2.3000e-02,  3.4760e-02, -4.1990e-02, -2.4132e-03,  3.3497e-02,\n",
       "          2.2384e-02,  7.2298e-03, -7.1351e-02,  9.0688e-03,  2.6188e-02,\n",
       "          5.3711e-03, -3.2392e-02,  8.6190e-02, -1.9085e-02, -2.5162e-02,\n",
       "         -2.1626e-02, -2.9020e-01, -7.7286e-02, -3.6402e-02,  3.7696e-02,\n",
       "          1.2692e-02, -3.4192e-02,  4.8809e-02,  1.4065e-02, -2.2700e-02,\n",
       "         -3.0466e-02,  4.1106e-02, -1.3757e-02,  4.5115e-02,  8.1375e-03,\n",
       "         -3.7317e-02,  1.4302e-02,  1.4744e-02, -3.3876e-02, -5.9078e-03,\n",
       "         -2.6204e-02,  6.6742e-02, -3.0924e-02, -3.4476e-02,  3.4018e-03,\n",
       "          1.4258e-01, -3.7286e-02, -1.0324e-02,  1.6843e-02,  1.0284e-02,\n",
       "          5.7775e-03,  3.2739e-02,  5.2471e-02, -4.7167e-02, -8.2480e-03,\n",
       "          2.8935e-02, -4.1958e-02,  1.1334e-02,  1.8690e-02,  5.7270e-02,\n",
       "         -4.3095e-03, -1.8422e-02, -1.5999e-02,  2.6425e-02,  3.7349e-02,\n",
       "          5.3324e-02, -1.5525e-02, -1.7348e-02, -1.8548e-02, -3.2613e-02,\n",
       "          6.8573e-02,  4.9488e-03,  3.5391e-02,  1.1082e-02, -3.2297e-02,\n",
       "          2.8888e-02, -6.7057e-02, -6.9999e-04, -1.5391e-02, -2.9030e-02,\n",
       "         -4.7452e-02,  1.8406e-02, -4.9409e-02, -1.0371e-02, -2.1358e-02,\n",
       "          2.1026e-02, -2.0411e-02,  3.4136e-03,  4.6370e-03,  5.9449e-02,\n",
       "         -1.3931e-02, -7.5013e-02, -4.0285e-02,  5.3608e-02,  5.8131e-03,\n",
       "         -3.7822e-02,  2.8829e-03,  3.4981e-02,  5.7712e-02, -1.2108e-02,\n",
       "          1.9700e-02,  4.8817e-03,  2.4768e-02,  4.0317e-02, -3.1840e-02,\n",
       "          3.0340e-02,  3.3750e-02,  2.1863e-02,  2.1405e-02,  1.5438e-02,\n",
       "          1.3639e-02,  4.3371e-03, -2.8651e-02, -4.2700e-03, -1.8153e-02,\n",
       "         -1.1121e-02, -7.9307e-02, -1.3339e-02, -4.1232e-02, -1.1573e-03,\n",
       "         -1.1918e-03, -5.7712e-02,  3.6433e-02, -2.9480e-03,  2.4263e-02,\n",
       "          1.4791e-02,  1.3872e-03, -7.1541e-02, -1.7364e-02, -3.2104e-03,\n",
       "         -2.9330e-02,  1.2029e-02, -1.4791e-02, -4.4421e-02,  2.6157e-02,\n",
       "         -8.3585e-03,  1.2360e-02,  6.2606e-02, -4.6789e-02,  3.0841e-03,\n",
       "          4.3568e-02, -8.2780e-02, -5.0435e-03, -1.6910e-03,  1.2084e-02,\n",
       "          1.7064e-02,  1.6133e-02,  3.6749e-02, -1.4917e-02, -8.7058e-03,\n",
       "          3.3308e-02,  3.7096e-03, -6.5431e-03,  2.6583e-02, -8.5716e-03,\n",
       "         -1.2265e-02, -3.0525e-03, -2.2147e-02, -6.2322e-02,  3.5486e-02,\n",
       "          3.0166e-02, -5.1895e-03,  1.2684e-02, -3.0009e-02,  3.7507e-02,\n",
       "          1.8832e-02,  4.7702e-04, -2.0537e-02, -2.7467e-02,  4.0948e-02,\n",
       "          7.5850e-03,  4.7673e-02,  1.1673e-02, -4.0569e-02,  2.3568e-02,\n",
       "         -4.4989e-02, -4.1201e-02, -2.1563e-02, -2.9377e-02,  1.5052e-02,\n",
       "          2.0963e-02, -2.1595e-02,  3.5770e-02,  1.6875e-02,  4.4137e-02,\n",
       "         -4.8967e-02, -9.3135e-03, -2.3505e-02,  1.4712e-02,  7.7468e-03,\n",
       "         -6.2101e-02, -3.5794e-03, -1.3923e-02, -6.0617e-02, -5.1872e-02,\n",
       "          2.3600e-03, -8.4690e-03, -3.6023e-02, -3.0214e-02, -1.8106e-02,\n",
       "         -2.2258e-02,  5.6789e-03,  3.3497e-02, -1.2755e-02, -3.2676e-02,\n",
       "         -5.4934e-02,  5.0009e-02,  5.5660e-02, -1.7869e-02, -4.8115e-02,\n",
       "          8.7689e-03,  3.7033e-02,  2.0616e-02, -1.1042e-02,  6.4682e-03,\n",
       "         -1.0087e-02,  1.5874e-03,  5.3576e-02, -3.3308e-02,  6.5416e-02,\n",
       "         -4.0569e-02, -3.8241e-03,  4.0317e-02, -2.2573e-02, -1.3386e-02,\n",
       "          6.0222e-03,  4.8557e-02, -8.5684e-02, -2.8572e-02, -8.4106e-02,\n",
       "          2.2068e-02, -1.6622e-02,  4.3979e-02,  4.1074e-02,  1.4775e-02,\n",
       "          5.0230e-02,  5.6481e-02, -4.1611e-02, -1.2084e-02,  1.8611e-02,\n",
       "          1.4136e-02,  3.3939e-02,  3.4160e-02, -1.3978e-02, -5.1714e-02,\n",
       "          4.6062e-02,  3.8675e-03,  3.6370e-02,  6.9583e-02,  2.3789e-02,\n",
       "          3.6717e-02, -5.2440e-02,  7.7665e-02, -1.4112e-02,  9.0619e-04,\n",
       "         -3.4918e-02,  2.3899e-02,  3.1919e-02, -8.0388e-03,  4.3600e-02,\n",
       "         -1.9590e-02,  1.0853e-02,  1.5865e-02,  2.1358e-02, -2.5352e-02,\n",
       "         -4.9220e-02, -4.6504e-02, -1.2684e-02, -3.7665e-02, -1.4783e-02,\n",
       "         -3.6212e-02,  2.6425e-02, -4.0127e-02, -8.4611e-03, -1.4839e-03,\n",
       "          1.6638e-02, -6.7815e-02,  1.2007e-03, -1.6733e-02,  4.4318e-03,\n",
       "          2.6086e-03,  8.4453e-03,  7.3245e-03,  5.0482e-02, -6.7057e-02,\n",
       "         -1.3349e-03, -2.2195e-02,  3.5410e-01, -2.6630e-02,  8.0191e-02,\n",
       "         -3.3055e-02, -2.0805e-02,  3.7767e-03, -7.3687e-02,  3.4255e-02,\n",
       "         -1.0608e-02,  1.0355e-02, -1.9479e-02, -5.3316e-03, -5.9196e-03,\n",
       "         -2.5920e-02, -8.2243e-03, -1.6030e-02,  3.1650e-02,  1.4483e-02,\n",
       "         -7.3119e-02, -1.7617e-02,  9.9292e-03, -1.0537e-02, -3.6031e-03,\n",
       "         -6.4658e-02,  4.0474e-02, -7.0278e-02,  2.4199e-02,  7.7918e-02,\n",
       "         -5.3292e-02,  6.5116e-03, -1.9764e-02,  1.6452e-04, -2.0884e-02,\n",
       "          1.6212e-02, -4.1390e-02,  3.6875e-02,  9.2630e-02,  1.3228e-02,\n",
       "          6.3853e-03, -5.3608e-02,  2.0442e-03, -2.3252e-02, -4.5115e-02,\n",
       "          1.4428e-02, -7.4508e-02,  5.0293e-02, -9.5345e-03, -6.3192e-04,\n",
       "         -9.9923e-03, -2.1121e-02, -3.7980e-02, -8.8242e-03, -3.9275e-02,\n",
       "         -3.6465e-02,  2.6157e-02, -9.9528e-03,  7.2172e-02, -2.0000e-02,\n",
       "          7.5495e-03,  8.8952e-03, -4.2842e-02, -4.7010e-02,  3.7728e-02,\n",
       "         -5.4018e-02, -3.5865e-02,  7.0167e-03, -5.0514e-02,  1.2250e-01,\n",
       "         -3.9085e-02,  3.5391e-02, -1.8153e-02, -5.7333e-02,  1.4973e-02,\n",
       "          5.4050e-02,  4.5684e-02, -8.2559e-03, -1.4073e-02, -4.8146e-03,\n",
       "         -6.9331e-02,  2.6741e-02,  2.6520e-01, -9.6687e-03, -2.2842e-02,\n",
       "         -8.0231e-03,  1.3781e-02,  3.6875e-02,  1.9637e-02,  1.0253e-02,\n",
       "          1.6496e-02, -4.5873e-02,  2.7025e-02, -7.3640e-03,  3.4492e-03,\n",
       "          2.4120e-02,  4.7167e-02, -5.6891e-02, -2.1358e-02,  1.9195e-02,\n",
       "          2.7893e-02,  9.7366e-02,  1.9874e-02, -1.6054e-02, -3.4286e-02,\n",
       "         -1.5367e-02,  1.3765e-02,  5.2661e-02,  1.4941e-02,  3.9969e-02,\n",
       "         -6.1974e-02, -6.3553e-02, -4.3789e-02, -4.3284e-02, -1.9258e-02,\n",
       "         -1.7822e-02,  2.4278e-02,  2.4507e-03, -8.9031e-03, -3.1177e-02,\n",
       "         -5.8565e-03, -1.4485e-01,  4.4926e-02, -3.8107e-02,  7.0838e-03,\n",
       "          1.0695e-02,  8.7216e-03, -3.9085e-02,  1.2179e-02, -1.5596e-02,\n",
       "          2.1800e-02, -2.8998e-02, -3.3118e-02,  3.8706e-02, -6.9299e-03,\n",
       "         -2.4783e-02, -5.6552e-03, -1.9612e-01, -5.9891e-02,  6.5116e-03,\n",
       "         -4.9314e-02,  5.5629e-02, -3.0924e-02,  4.0127e-02, -2.8667e-02,\n",
       "         -9.7161e-03, -1.4902e-02, -2.0616e-02,  1.0466e-02,  3.4602e-02,\n",
       "          6.5731e-02, -6.5195e-03]])"
      ]
     },
     "execution_count": 133,
     "metadata": {},
     "output_type": "execute_result"
    }
   ],
   "source": [
    "text_features"
   ]
  },
  {
   "cell_type": "code",
   "execution_count": null,
   "id": "c75415d1-5258-4897-a37f-1dab27585230",
   "metadata": {},
   "outputs": [],
   "source": []
  }
 ],
 "metadata": {
  "kernelspec": {
   "display_name": "Python 3 (ipykernel)",
   "language": "python",
   "name": "python3"
  },
  "language_info": {
   "codemirror_mode": {
    "name": "ipython",
    "version": 3
   },
   "file_extension": ".py",
   "mimetype": "text/x-python",
   "name": "python",
   "nbconvert_exporter": "python",
   "pygments_lexer": "ipython3",
   "version": "3.8.10"
  }
 },
 "nbformat": 4,
 "nbformat_minor": 5
}
